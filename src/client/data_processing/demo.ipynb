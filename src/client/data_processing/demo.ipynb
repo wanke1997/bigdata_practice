{
 "cells": [
  {
   "cell_type": "markdown",
   "id": "mechanical-tsunami",
   "metadata": {},
   "source": [
    "# Working directory\n",
    "\n",
    "The notebooks that you save here persist in the host filesystem. "
   ]
  },
  {
   "cell_type": "code",
   "execution_count": 3,
   "id": "complicated-lighting",
   "metadata": {},
   "outputs": [
    {
     "name": "stdout",
     "output_type": "stream",
     "text": [
      "/home/jovyan/work\n",
      "\t .ipynb_checkpoints\n",
      "\t demo.ipynb\n"
     ]
    }
   ],
   "source": [
    "import os\n",
    "print(os.getcwd())\n",
    "for d in os.listdir():\n",
    "    print(f'\\t {d}')"
   ]
  },
  {
   "cell_type": "markdown",
   "id": "outside-message",
   "metadata": {},
   "source": [
    "# requirements.txt\n",
    "\n",
    "The `requirements.txt` file contains list of modules you want to use in your notebook. The demo `requirements.txt` has flask module, check if below runs without errors:"
   ]
  },
  {
   "cell_type": "code",
   "execution_count": 5,
   "id": "pursuant-february",
   "metadata": {},
   "outputs": [
    {
     "name": "stdout",
     "output_type": "stream",
     "text": [
      "No problem, flask module installed.\n"
     ]
    }
   ],
   "source": [
    "import flask\n",
    "print('No problem, flask module installed.')"
   ]
  },
  {
   "cell_type": "code",
   "execution_count": null,
   "id": "sporting-noise",
   "metadata": {},
   "outputs": [],
   "source": []
  }
 ],
 "metadata": {
  "kernelspec": {
   "display_name": "Python 3",
   "language": "python",
   "name": "python3"
  },
  "language_info": {
   "codemirror_mode": {
    "name": "ipython",
    "version": 3
   },
   "file_extension": ".py",
   "mimetype": "text/x-python",
   "name": "python",
   "nbconvert_exporter": "python",
   "pygments_lexer": "ipython3",
   "version": "3.8.6"
  }
 },
 "nbformat": 4,
 "nbformat_minor": 5
}
